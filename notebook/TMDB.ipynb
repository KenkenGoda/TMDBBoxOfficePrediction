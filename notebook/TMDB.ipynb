{
 "cells": [
  {
   "cell_type": "markdown",
   "metadata": {},
   "source": [
    "# Set Up"
   ]
  },
  {
   "cell_type": "code",
   "execution_count": 957,
   "metadata": {
    "code_folding": []
   },
   "outputs": [],
   "source": [
    "# moduleをimport\n",
    "import numpy as np\n",
    "import pandas as pd\n",
    "import matplotlib.pyplot as plt\n",
    "from wordcloud import WordCloud\n",
    "from collections import Counter\n",
    "from sklearn.model_selection import train_test_split\n",
    "from sklearn.preprocessing import Normalizer\n",
    "from sklearn.preprocessing import StandardScaler\n",
    "from sklearn.linear_model import LinearRegression\n",
    "from sklearn.linear_model import Ridge\n",
    "from sklearn.ensemble import RandomForestRegressor\n",
    "from sklearn.pipeline import Pipeline\n",
    "from sklearn.metrics import mean_squared_error\n",
    "from lightgbm import LGBMRegressor\n",
    "import warnings\n",
    "from tqdm import tqdm_notebook as tqdm"
   ]
  },
  {
   "cell_type": "code",
   "execution_count": 955,
   "metadata": {
    "code_folding": [
     0
    ]
   },
   "outputs": [],
   "source": [
    "# DFで表示する長さを指定\n",
    "pd.set_option('display.max_columns', 100)\n",
    "pd.set_option('display.max_rows', 3000)"
   ]
  },
  {
   "cell_type": "code",
   "execution_count": 956,
   "metadata": {
    "code_folding": [
     0
    ]
   },
   "outputs": [],
   "source": [
    "# Warningを非表示\n",
    "warnings.filterwarnings('ignore')"
   ]
  },
  {
   "cell_type": "markdown",
   "metadata": {},
   "source": [
    "# Read Files"
   ]
  },
  {
   "cell_type": "code",
   "execution_count": 39,
   "metadata": {
    "code_folding": [
     0
    ]
   },
   "outputs": [],
   "source": [
    "# ファイルの読み出し(df_train, df_test)\n",
    "df_train_raw = pd.read_csv('train.csv')\n",
    "df_test_raw = pd.read_csv('test.csv')"
   ]
  },
  {
   "cell_type": "markdown",
   "metadata": {},
   "source": [
    "# Items"
   ]
  },
  {
   "cell_type": "code",
   "execution_count": 5,
   "metadata": {
    "code_folding": [
     0
    ]
   },
   "outputs": [],
   "source": [
    "# id(int):\n",
    "# - use as index"
   ]
  },
  {
   "cell_type": "code",
   "execution_count": 6,
   "metadata": {
    "code_folding": [
     0
    ]
   },
   "outputs": [],
   "source": [
    "# budget(int):\n",
    "# - use as is or log scale"
   ]
  },
  {
   "cell_type": "code",
   "execution_count": 7,
   "metadata": {
    "code_folding": [
     0
    ]
   },
   "outputs": [],
   "source": [
    "# popularity(float):\n",
    "# - use as is"
   ]
  },
  {
   "cell_type": "code",
   "execution_count": 8,
   "metadata": {
    "code_folding": [
     0
    ]
   },
   "outputs": [],
   "source": [
    "# runtime(float):\n",
    "# - use as is"
   ]
  },
  {
   "cell_type": "code",
   "execution_count": 9,
   "metadata": {
    "code_folding": [
     0
    ]
   },
   "outputs": [],
   "source": [
    "# imdb_id(str):\n",
    "# - do not use"
   ]
  },
  {
   "cell_type": "code",
   "execution_count": 10,
   "metadata": {
    "code_folding": [
     0
    ]
   },
   "outputs": [],
   "source": [
    "# original_language(str):\n",
    "# - get dummies"
   ]
  },
  {
   "cell_type": "code",
   "execution_count": 11,
   "metadata": {
    "code_folding": []
   },
   "outputs": [],
   "source": [
    "# original_title(str):\n",
    "# - do not use ?"
   ]
  },
  {
   "cell_type": "code",
   "execution_count": 12,
   "metadata": {
    "code_folding": []
   },
   "outputs": [],
   "source": [
    "# title(str):\n",
    "# - do not use ?"
   ]
  },
  {
   "cell_type": "code",
   "execution_count": 13,
   "metadata": {
    "code_folding": []
   },
   "outputs": [],
   "source": [
    "# overview(long str):\n",
    "# - extract keywords and use"
   ]
  },
  {
   "cell_type": "code",
   "execution_count": 14,
   "metadata": {
    "code_folding": []
   },
   "outputs": [],
   "source": [
    "# tagline(long str):\n",
    "# - do not use ?\n",
    "# - as well as title or overview"
   ]
  },
  {
   "cell_type": "code",
   "execution_count": 15,
   "metadata": {
    "code_folding": [
     0
    ]
   },
   "outputs": [],
   "source": [
    "# status(str):\n",
    "# - \"Released\" -> 0\n",
    "# - \"Rumored\" -> 1"
   ]
  },
  {
   "cell_type": "code",
   "execution_count": 16,
   "metadata": {
    "code_folding": [
     0
    ]
   },
   "outputs": [],
   "source": [
    "# homepage(link):\n",
    "# - null -> 0\n",
    "# - other -> 1"
   ]
  },
  {
   "cell_type": "code",
   "execution_count": 17,
   "metadata": {
    "code_folding": [
     0
    ]
   },
   "outputs": [],
   "source": [
    "# postar_path(.jpg):\n",
    "# - null -> 0 \n",
    "# - other -> 1"
   ]
  },
  {
   "cell_type": "code",
   "execution_count": 18,
   "metadata": {
    "code_folding": [
     0
    ]
   },
   "outputs": [],
   "source": [
    "# release_date(str):\n",
    "# - devide into \"day of week,\" \"month,\" \"day,\" and \"year\""
   ]
  },
  {
   "cell_type": "code",
   "execution_count": 19,
   "metadata": {
    "code_folding": [
     0
    ]
   },
   "outputs": [],
   "source": [
    "# belongs_to_collection(nested):\n",
    "# - unfold and devide into \"id,\" \"name,\" \"poster_path,\" and \"backdrop_path\"\n",
    "# - fill value 0 for Nan and 1 for other"
   ]
  },
  {
   "cell_type": "code",
   "execution_count": 20,
   "metadata": {
    "code_folding": [
     0
    ]
   },
   "outputs": [],
   "source": [
    "# genres(nested):\n",
    "# - unfold and devide into \"id\" and \"name\"\n",
    "# - get dummies on \"name\""
   ]
  },
  {
   "cell_type": "code",
   "execution_count": 21,
   "metadata": {
    "code_folding": [
     0
    ]
   },
   "outputs": [],
   "source": [
    "# production_countries(nested):\n",
    "# - unfold and devide into \"iso_3166_1\" and \"name\"\n",
    "# - get dummies on \"iso_3166_1\""
   ]
  },
  {
   "cell_type": "code",
   "execution_count": 22,
   "metadata": {
    "code_folding": [
     0
    ]
   },
   "outputs": [],
   "source": [
    "# spoken_languages(nested):\n",
    "# - unfold and devide into \"iso_639_1\" and \"name\"\n",
    "# - get dummies on \"iso_639_1\""
   ]
  },
  {
   "cell_type": "code",
   "execution_count": 23,
   "metadata": {
    "code_folding": []
   },
   "outputs": [],
   "source": [
    "# production_companies(multi nested):\n",
    "# - unfold and devide into \"name\" and \"id\"\n",
    "# - get dummies on \"name\""
   ]
  },
  {
   "cell_type": "code",
   "execution_count": 24,
   "metadata": {
    "code_folding": []
   },
   "outputs": [],
   "source": [
    "# Keywords(multi nested):\n",
    "# - unfold and devide into \"id\" and \"name\"\n",
    "# - get dummies on \"name\""
   ]
  },
  {
   "cell_type": "code",
   "execution_count": 25,
   "metadata": {
    "code_folding": []
   },
   "outputs": [],
   "source": [
    "# cast(multi nested):\n",
    "# - unfold and devide into \"cast_id,\" \"character,\" \"credit_id,\" \"gender,\" \"id,\" \"name,\" \"order,\" and \"profile_path\"\n",
    "# - get dummies on \"character,\" \"gender,\" \"name,\" \"order,\" and \"profile_path\""
   ]
  },
  {
   "cell_type": "code",
   "execution_count": 26,
   "metadata": {
    "code_folding": []
   },
   "outputs": [],
   "source": [
    "# crew(multi nested):\n",
    "# - unfold and devide into \"credit_id,\" \"department,\" \"gender,\" \"id,\" \"job,\" \"name,\" and \"profile_path\"\n",
    "# - get dummies on \"department,\" \"gender,\" \"job,\" \"name,\" and \"profile_path\""
   ]
  },
  {
   "cell_type": "code",
   "execution_count": 27,
   "metadata": {
    "code_folding": [
     0
    ]
   },
   "outputs": [],
   "source": [
    "# revenue(int):\n",
    "# - use as target"
   ]
  },
  {
   "cell_type": "markdown",
   "metadata": {},
   "source": [
    "# Preprocessing"
   ]
  },
  {
   "cell_type": "code",
   "execution_count": 582,
   "metadata": {},
   "outputs": [
    {
     "data": {
      "text/html": [
       "<div>\n",
       "<style scoped>\n",
       "    .dataframe tbody tr th:only-of-type {\n",
       "        vertical-align: middle;\n",
       "    }\n",
       "\n",
       "    .dataframe tbody tr th {\n",
       "        vertical-align: top;\n",
       "    }\n",
       "\n",
       "    .dataframe thead th {\n",
       "        text-align: right;\n",
       "    }\n",
       "</style>\n",
       "<table border=\"1\" class=\"dataframe\">\n",
       "  <thead>\n",
       "    <tr style=\"text-align: right;\">\n",
       "      <th></th>\n",
       "      <th>id</th>\n",
       "      <th>belongs_to_collection</th>\n",
       "      <th>budget</th>\n",
       "      <th>genres</th>\n",
       "      <th>homepage</th>\n",
       "      <th>imdb_id</th>\n",
       "      <th>original_language</th>\n",
       "      <th>original_title</th>\n",
       "      <th>overview</th>\n",
       "      <th>popularity</th>\n",
       "      <th>poster_path</th>\n",
       "      <th>production_companies</th>\n",
       "      <th>production_countries</th>\n",
       "      <th>release_date</th>\n",
       "      <th>runtime</th>\n",
       "      <th>spoken_languages</th>\n",
       "      <th>status</th>\n",
       "      <th>tagline</th>\n",
       "      <th>title</th>\n",
       "      <th>Keywords</th>\n",
       "      <th>cast</th>\n",
       "      <th>crew</th>\n",
       "      <th>revenue</th>\n",
       "    </tr>\n",
       "  </thead>\n",
       "  <tbody>\n",
       "    <tr>\n",
       "      <th>0</th>\n",
       "      <td>1</td>\n",
       "      <td>[{'id': 313576, 'name': 'Hot Tub Time Machine ...</td>\n",
       "      <td>14000000</td>\n",
       "      <td>[{'id': 35, 'name': 'Comedy'}]</td>\n",
       "      <td>NaN</td>\n",
       "      <td>tt2637294</td>\n",
       "      <td>en</td>\n",
       "      <td>Hot Tub Time Machine 2</td>\n",
       "      <td>When Lou, who has become the \"father of the In...</td>\n",
       "      <td>6.575393</td>\n",
       "      <td>/tQtWuwvMf0hCc2QR2tkolwl7c3c.jpg</td>\n",
       "      <td>[{'name': 'Paramount Pictures', 'id': 4}, {'na...</td>\n",
       "      <td>[{'iso_3166_1': 'US', 'name': 'United States o...</td>\n",
       "      <td>2/20/15</td>\n",
       "      <td>93.0</td>\n",
       "      <td>[{'iso_639_1': 'en', 'name': 'English'}]</td>\n",
       "      <td>Released</td>\n",
       "      <td>The Laws of Space and Time are About to be Vio...</td>\n",
       "      <td>Hot Tub Time Machine 2</td>\n",
       "      <td>[{'id': 4379, 'name': 'time travel'}, {'id': 9...</td>\n",
       "      <td>[{'cast_id': 4, 'character': 'Lou', 'credit_id...</td>\n",
       "      <td>[{'credit_id': '59ac067c92514107af02c8c8', 'de...</td>\n",
       "      <td>12314651</td>\n",
       "    </tr>\n",
       "    <tr>\n",
       "      <th>1</th>\n",
       "      <td>2</td>\n",
       "      <td>[{'id': 107674, 'name': 'The Princess Diaries ...</td>\n",
       "      <td>40000000</td>\n",
       "      <td>[{'id': 35, 'name': 'Comedy'}, {'id': 18, 'nam...</td>\n",
       "      <td>NaN</td>\n",
       "      <td>tt0368933</td>\n",
       "      <td>en</td>\n",
       "      <td>The Princess Diaries 2: Royal Engagement</td>\n",
       "      <td>Mia Thermopolis is now a college graduate and ...</td>\n",
       "      <td>8.248895</td>\n",
       "      <td>/w9Z7A0GHEhIp7etpj0vyKOeU1Wx.jpg</td>\n",
       "      <td>[{'name': 'Walt Disney Pictures', 'id': 2}]</td>\n",
       "      <td>[{'iso_3166_1': 'US', 'name': 'United States o...</td>\n",
       "      <td>8/6/04</td>\n",
       "      <td>113.0</td>\n",
       "      <td>[{'iso_639_1': 'en', 'name': 'English'}]</td>\n",
       "      <td>Released</td>\n",
       "      <td>It can take a lifetime to find true love; she'...</td>\n",
       "      <td>The Princess Diaries 2: Royal Engagement</td>\n",
       "      <td>[{'id': 2505, 'name': 'coronation'}, {'id': 42...</td>\n",
       "      <td>[{'cast_id': 1, 'character': 'Mia Thermopolis'...</td>\n",
       "      <td>[{'credit_id': '52fe43fe9251416c7502563d', 'de...</td>\n",
       "      <td>95149435</td>\n",
       "    </tr>\n",
       "    <tr>\n",
       "      <th>2</th>\n",
       "      <td>3</td>\n",
       "      <td>NaN</td>\n",
       "      <td>3300000</td>\n",
       "      <td>[{'id': 18, 'name': 'Drama'}]</td>\n",
       "      <td>http://sonyclassics.com/whiplash/</td>\n",
       "      <td>tt2582802</td>\n",
       "      <td>en</td>\n",
       "      <td>Whiplash</td>\n",
       "      <td>Under the direction of a ruthless instructor, ...</td>\n",
       "      <td>64.299990</td>\n",
       "      <td>/lIv1QinFqz4dlp5U4lQ6HaiskOZ.jpg</td>\n",
       "      <td>[{'name': 'Bold Films', 'id': 2266}, {'name': ...</td>\n",
       "      <td>[{'iso_3166_1': 'US', 'name': 'United States o...</td>\n",
       "      <td>10/10/14</td>\n",
       "      <td>105.0</td>\n",
       "      <td>[{'iso_639_1': 'en', 'name': 'English'}]</td>\n",
       "      <td>Released</td>\n",
       "      <td>The road to greatness can take you to the edge.</td>\n",
       "      <td>Whiplash</td>\n",
       "      <td>[{'id': 1416, 'name': 'jazz'}, {'id': 1523, 'n...</td>\n",
       "      <td>[{'cast_id': 5, 'character': 'Andrew Neimann',...</td>\n",
       "      <td>[{'credit_id': '54d5356ec3a3683ba0000039', 'de...</td>\n",
       "      <td>13092000</td>\n",
       "    </tr>\n",
       "    <tr>\n",
       "      <th>3</th>\n",
       "      <td>4</td>\n",
       "      <td>NaN</td>\n",
       "      <td>1200000</td>\n",
       "      <td>[{'id': 53, 'name': 'Thriller'}, {'id': 18, 'n...</td>\n",
       "      <td>http://kahaanithefilm.com/</td>\n",
       "      <td>tt1821480</td>\n",
       "      <td>hi</td>\n",
       "      <td>Kahaani</td>\n",
       "      <td>Vidya Bagchi (Vidya Balan) arrives in Kolkata ...</td>\n",
       "      <td>3.174936</td>\n",
       "      <td>/aTXRaPrWSinhcmCrcfJK17urp3F.jpg</td>\n",
       "      <td>NaN</td>\n",
       "      <td>[{'iso_3166_1': 'IN', 'name': 'India'}]</td>\n",
       "      <td>3/9/12</td>\n",
       "      <td>122.0</td>\n",
       "      <td>[{'iso_639_1': 'en', 'name': 'English'}, {'iso...</td>\n",
       "      <td>Released</td>\n",
       "      <td>NaN</td>\n",
       "      <td>Kahaani</td>\n",
       "      <td>[{'id': 10092, 'name': 'mystery'}, {'id': 1054...</td>\n",
       "      <td>[{'cast_id': 1, 'character': 'Vidya Bagchi', '...</td>\n",
       "      <td>[{'credit_id': '52fe48779251416c9108d6eb', 'de...</td>\n",
       "      <td>16000000</td>\n",
       "    </tr>\n",
       "    <tr>\n",
       "      <th>4</th>\n",
       "      <td>5</td>\n",
       "      <td>NaN</td>\n",
       "      <td>0</td>\n",
       "      <td>[{'id': 28, 'name': 'Action'}, {'id': 53, 'nam...</td>\n",
       "      <td>NaN</td>\n",
       "      <td>tt1380152</td>\n",
       "      <td>ko</td>\n",
       "      <td>마린보이</td>\n",
       "      <td>Marine Boy is the story of a former national s...</td>\n",
       "      <td>1.148070</td>\n",
       "      <td>/m22s7zvkVFDU9ir56PiiqIEWFdT.jpg</td>\n",
       "      <td>NaN</td>\n",
       "      <td>[{'iso_3166_1': 'KR', 'name': 'South Korea'}]</td>\n",
       "      <td>2/5/09</td>\n",
       "      <td>118.0</td>\n",
       "      <td>[{'iso_639_1': 'ko', 'name': '한국어/조선말'}]</td>\n",
       "      <td>Released</td>\n",
       "      <td>NaN</td>\n",
       "      <td>Marine Boy</td>\n",
       "      <td>NaN</td>\n",
       "      <td>[{'cast_id': 3, 'character': 'Chun-soo', 'cred...</td>\n",
       "      <td>[{'credit_id': '52fe464b9251416c75073b43', 'de...</td>\n",
       "      <td>3923970</td>\n",
       "    </tr>\n",
       "  </tbody>\n",
       "</table>\n",
       "</div>"
      ],
      "text/plain": [
       "   id                              belongs_to_collection    budget  \\\n",
       "0   1  [{'id': 313576, 'name': 'Hot Tub Time Machine ...  14000000   \n",
       "1   2  [{'id': 107674, 'name': 'The Princess Diaries ...  40000000   \n",
       "2   3                                                NaN   3300000   \n",
       "3   4                                                NaN   1200000   \n",
       "4   5                                                NaN         0   \n",
       "\n",
       "                                              genres  \\\n",
       "0                     [{'id': 35, 'name': 'Comedy'}]   \n",
       "1  [{'id': 35, 'name': 'Comedy'}, {'id': 18, 'nam...   \n",
       "2                      [{'id': 18, 'name': 'Drama'}]   \n",
       "3  [{'id': 53, 'name': 'Thriller'}, {'id': 18, 'n...   \n",
       "4  [{'id': 28, 'name': 'Action'}, {'id': 53, 'nam...   \n",
       "\n",
       "                            homepage    imdb_id original_language  \\\n",
       "0                                NaN  tt2637294                en   \n",
       "1                                NaN  tt0368933                en   \n",
       "2  http://sonyclassics.com/whiplash/  tt2582802                en   \n",
       "3         http://kahaanithefilm.com/  tt1821480                hi   \n",
       "4                                NaN  tt1380152                ko   \n",
       "\n",
       "                             original_title  \\\n",
       "0                    Hot Tub Time Machine 2   \n",
       "1  The Princess Diaries 2: Royal Engagement   \n",
       "2                                  Whiplash   \n",
       "3                                   Kahaani   \n",
       "4                                      마린보이   \n",
       "\n",
       "                                            overview  popularity  \\\n",
       "0  When Lou, who has become the \"father of the In...    6.575393   \n",
       "1  Mia Thermopolis is now a college graduate and ...    8.248895   \n",
       "2  Under the direction of a ruthless instructor, ...   64.299990   \n",
       "3  Vidya Bagchi (Vidya Balan) arrives in Kolkata ...    3.174936   \n",
       "4  Marine Boy is the story of a former national s...    1.148070   \n",
       "\n",
       "                        poster_path  \\\n",
       "0  /tQtWuwvMf0hCc2QR2tkolwl7c3c.jpg   \n",
       "1  /w9Z7A0GHEhIp7etpj0vyKOeU1Wx.jpg   \n",
       "2  /lIv1QinFqz4dlp5U4lQ6HaiskOZ.jpg   \n",
       "3  /aTXRaPrWSinhcmCrcfJK17urp3F.jpg   \n",
       "4  /m22s7zvkVFDU9ir56PiiqIEWFdT.jpg   \n",
       "\n",
       "                                production_companies  \\\n",
       "0  [{'name': 'Paramount Pictures', 'id': 4}, {'na...   \n",
       "1        [{'name': 'Walt Disney Pictures', 'id': 2}]   \n",
       "2  [{'name': 'Bold Films', 'id': 2266}, {'name': ...   \n",
       "3                                                NaN   \n",
       "4                                                NaN   \n",
       "\n",
       "                                production_countries release_date  runtime  \\\n",
       "0  [{'iso_3166_1': 'US', 'name': 'United States o...      2/20/15     93.0   \n",
       "1  [{'iso_3166_1': 'US', 'name': 'United States o...       8/6/04    113.0   \n",
       "2  [{'iso_3166_1': 'US', 'name': 'United States o...     10/10/14    105.0   \n",
       "3            [{'iso_3166_1': 'IN', 'name': 'India'}]       3/9/12    122.0   \n",
       "4      [{'iso_3166_1': 'KR', 'name': 'South Korea'}]       2/5/09    118.0   \n",
       "\n",
       "                                    spoken_languages    status  \\\n",
       "0           [{'iso_639_1': 'en', 'name': 'English'}]  Released   \n",
       "1           [{'iso_639_1': 'en', 'name': 'English'}]  Released   \n",
       "2           [{'iso_639_1': 'en', 'name': 'English'}]  Released   \n",
       "3  [{'iso_639_1': 'en', 'name': 'English'}, {'iso...  Released   \n",
       "4           [{'iso_639_1': 'ko', 'name': '한국어/조선말'}]  Released   \n",
       "\n",
       "                                             tagline  \\\n",
       "0  The Laws of Space and Time are About to be Vio...   \n",
       "1  It can take a lifetime to find true love; she'...   \n",
       "2    The road to greatness can take you to the edge.   \n",
       "3                                                NaN   \n",
       "4                                                NaN   \n",
       "\n",
       "                                      title  \\\n",
       "0                    Hot Tub Time Machine 2   \n",
       "1  The Princess Diaries 2: Royal Engagement   \n",
       "2                                  Whiplash   \n",
       "3                                   Kahaani   \n",
       "4                                Marine Boy   \n",
       "\n",
       "                                            Keywords  \\\n",
       "0  [{'id': 4379, 'name': 'time travel'}, {'id': 9...   \n",
       "1  [{'id': 2505, 'name': 'coronation'}, {'id': 42...   \n",
       "2  [{'id': 1416, 'name': 'jazz'}, {'id': 1523, 'n...   \n",
       "3  [{'id': 10092, 'name': 'mystery'}, {'id': 1054...   \n",
       "4                                                NaN   \n",
       "\n",
       "                                                cast  \\\n",
       "0  [{'cast_id': 4, 'character': 'Lou', 'credit_id...   \n",
       "1  [{'cast_id': 1, 'character': 'Mia Thermopolis'...   \n",
       "2  [{'cast_id': 5, 'character': 'Andrew Neimann',...   \n",
       "3  [{'cast_id': 1, 'character': 'Vidya Bagchi', '...   \n",
       "4  [{'cast_id': 3, 'character': 'Chun-soo', 'cred...   \n",
       "\n",
       "                                                crew   revenue  \n",
       "0  [{'credit_id': '59ac067c92514107af02c8c8', 'de...  12314651  \n",
       "1  [{'credit_id': '52fe43fe9251416c7502563d', 'de...  95149435  \n",
       "2  [{'credit_id': '54d5356ec3a3683ba0000039', 'de...  13092000  \n",
       "3  [{'credit_id': '52fe48779251416c9108d6eb', 'de...  16000000  \n",
       "4  [{'credit_id': '52fe464b9251416c75073b43', 'de...   3923970  "
      ]
     },
     "execution_count": 582,
     "metadata": {},
     "output_type": "execute_result"
    }
   ],
   "source": [
    "df_train_raw.head()"
   ]
  },
  {
   "cell_type": "code",
   "execution_count": 740,
   "metadata": {
    "code_folding": [
     2,
     5,
     8,
     12,
     16,
     24,
     29,
     36,
     54,
     63,
     72,
     82
    ]
   },
   "outputs": [],
   "source": [
    "class Preprocessing:\n",
    "    \n",
    "    def __init__(self, df):\n",
    "        self.df = df.copy().set_index('id')\n",
    "        \n",
    "    def _status(self):\n",
    "        self.df['status'] = self.df['status'].apply(lambda x: 1 if x=='Released' else 1)\n",
    "        \n",
    "    def _homepage(self):\n",
    "        self.df.loc[~self.df['homepage'].isnull(), 'homepage'] = 1\n",
    "        self.df.loc[self.df['homepage'].isnull(), 'homepage'] = 0\n",
    "        \n",
    "    def _poster_path(self):\n",
    "        self.df.loc[~self.df['poster_path'].isnull(), 'poster_path'] = 1\n",
    "        self.df.loc[self.df['poster_path'].isnull(), 'poster_path'] = 0\n",
    "    \n",
    "    def _release_date(self):\n",
    "        date = pd.to_datetime(self.df['release_date']).dt.strftime('%A, %B, %d, %Y').str.split(',', expand=True)\n",
    "        self.df['day_of_week'] = date[0]\n",
    "        self.df['month'] = date[1]\n",
    "        self.df['day'] = date[2].fillna(0).astype(int)\n",
    "        self.df['year'] = date[3].fillna(0).astype(int)\n",
    "        self.df = self.df.drop(columns=['release_date'])\n",
    "        \n",
    "    def _get(self, s):\n",
    "        try: d = eval(s)\n",
    "        except: d = {}\n",
    "        return d\n",
    "        \n",
    "    def _belongs_to_collection(self):\n",
    "        col = 'belongs_to_collection'\n",
    "        new_cols = ['collection_name', 'collection_backdrop', 'collection_poster']\n",
    "        self.df[col] = self.df[col].apply(lambda x: self._get(x))\n",
    "        name = np.zeros(len(self.df), int)\n",
    "        backdrop_path = np.zeros(len(self.df), int)\n",
    "        poster_path = np.zeros(len(self.df), int)\n",
    "        for i, index in enumerate(self.df.index):\n",
    "            try:\n",
    "                self.df[col][index][0]['name']\n",
    "                name[i] = 1\n",
    "            except: pass\n",
    "            try:\n",
    "                self.df[col][index][0]['backdrop_path']\n",
    "                backdrop_path[i] = 1\n",
    "            except: pass\n",
    "            try:\n",
    "                self.df[col][index][0]['poster_path']\n",
    "                poster_path[i] = 1\n",
    "            except: pass\n",
    "        self.df[new_cols[0]] = name\n",
    "        self.df[new_cols[1]] = backdrop_path\n",
    "        self.df[new_cols[2]] = poster_path\n",
    "        self.df = self.df.drop([col], axis=1)\n",
    "        \n",
    "    def _genres(self):\n",
    "        col = 'genres'\n",
    "        self.df[col] = self.df[col].apply(lambda x: self._get(x))\n",
    "        name = []\n",
    "        for index in self.df.index:\n",
    "            try: name.append(self.df[col][index][0]['name'])\n",
    "            except: name.append('nan')\n",
    "        self.df[col] = name\n",
    "    \n",
    "    def _production_countries(self):\n",
    "        col = 'production_countries'\n",
    "        self.df[col] = self.df[col].apply(lambda x: self._get(x))\n",
    "        name = []\n",
    "        for index in self.df.index:\n",
    "            try: name.append(self.df[col][index][0]['iso_3166_1'])\n",
    "            except: name.append('Nan')\n",
    "        self.df[col] = name\n",
    "        \n",
    "    def _spoken_languages(self):\n",
    "        col = 'spoken_languages'\n",
    "        self.df[col] = self.df[col].apply(lambda x: self._get(x))\n",
    "        name = []\n",
    "        for index in self.df.index:\n",
    "            try: name.append(self.df[col][index][0]['iso_639_1'])\n",
    "            except: name.append('Nan')\n",
    "        self.df[col] = name\n",
    "        self.df[col] = self.df[col].replace('xx', 'Nan')\n",
    "    \n",
    "    def extract(self):\n",
    "        self._status()\n",
    "        self._homepage()\n",
    "        self._poster_path()\n",
    "        self._release_date()\n",
    "        self._belongs_to_collection()\n",
    "        self._genres()\n",
    "        self._production_countries()\n",
    "        self._spoken_languages()\n",
    "        return self.df"
   ]
  },
  {
   "cell_type": "code",
   "execution_count": 741,
   "metadata": {
    "code_folding": [
     0
    ]
   },
   "outputs": [],
   "source": [
    "# df_trainとdf_testの前処理を実行\n",
    "df_train = Preprocessing(df_train_raw).extract()\n",
    "df_test = Preprocessing(df_test_raw).extract()"
   ]
  },
  {
   "cell_type": "markdown",
   "metadata": {},
   "source": [
    "# Making Features"
   ]
  },
  {
   "cell_type": "code",
   "execution_count": 944,
   "metadata": {
    "code_folding": [
     2,
     5,
     8,
     11,
     15,
     24,
     27,
     30,
     33,
     36,
     39,
     42,
     45,
     48,
     51,
     54,
     63,
     72,
     81
    ]
   },
   "outputs": [],
   "source": [
    "class Feature:\n",
    "    \n",
    "    def __init__(self, df):\n",
    "        self.df = df.copy()\n",
    "        \n",
    "    def _budget(self):\n",
    "        return self.df['budget']\n",
    "        \n",
    "    def _popularity(self):\n",
    "        return self.df['popularity']\n",
    "    \n",
    "    def _runtime(self):\n",
    "        s = self.df['runtime']\n",
    "        return s.fillna(s.mean())\n",
    "    \n",
    "    def _language(self):\n",
    "        name = self.df['original_language'].values\n",
    "        top_name = [m[0] for m in Counter([i for j in [name] for i in j]).most_common(15)]\n",
    "        df = pd.DataFrame(index=self.df.index, columns=['original_language'], data=name)\n",
    "        for top in top_name:\n",
    "            df['lang_'+top] = df['original_language'].apply(lambda x: 1 if top in x else 0)\n",
    "        df = df.drop(['original_language'], axis=1)\n",
    "        return df\n",
    "    \n",
    "    def _status(self):\n",
    "        return self.df['status']\n",
    "    \n",
    "    def _homepage(self):\n",
    "        return self.df['homepage']\n",
    "    \n",
    "    def _poster_path(self):\n",
    "        return self.df['poster_path']\n",
    "    \n",
    "    def _release_day_of_week(self):\n",
    "        return pd.get_dummies(self.df['day_of_week'])\n",
    "    \n",
    "    def _release_month(self):\n",
    "        return pd.get_dummies(self.df['month'])\n",
    "    \n",
    "    def _release_day(self):\n",
    "        return self.df['day']\n",
    "    \n",
    "    def _release_year(self):\n",
    "        return self.df['year']\n",
    "    \n",
    "    def _collection_name(self):\n",
    "        return self.df['collection_name']\n",
    "    \n",
    "    def _collection_backdrop(self):\n",
    "        return self.df['collection_backdrop']\n",
    "    \n",
    "    def _collection_poster(self):\n",
    "        return self.df['collection_poster']\n",
    "        \n",
    "    def _genres(self, n_top=15):\n",
    "        name = self.df['genres'].values\n",
    "        top_name = [m[0] for m in Counter([i for j in [name] for i in j]).most_common(n_top)]\n",
    "        df = pd.DataFrame(index=self.df.index, columns=['genres'], data=name)\n",
    "        for top in top_name:\n",
    "            df['genr_'+top] = df['genres'].apply(lambda x: 1 if top in x else 0)\n",
    "        df = df.drop(['genres'], axis=1)\n",
    "        return df\n",
    "    \n",
    "    def _production_countries(self, n_top=6):\n",
    "        name = self.df['production_countries'].values\n",
    "        top_name = [m[0] for m in Counter([i for j in [name] for i in j]).most_common(n_top)]\n",
    "        df = pd.DataFrame(index=self.df.index, columns=['production_countries'], data=name)\n",
    "        for top in top_name:\n",
    "            df['prod_'+top] = df['production_countries'].apply(lambda x: 1 if top in x else 0)\n",
    "        df = df.drop(['production_countries'], axis=1)\n",
    "        return df\n",
    "        \n",
    "    def _spoken_languages(self, n_top=5):\n",
    "        name = self.df['spoken_languages'].values\n",
    "        top_name = [m[0] for m in Counter([i for j in [name] for i in j]).most_common(n_top)]\n",
    "        df = pd.DataFrame(index=self.df.index, columns=['spoken_languages'], data=name)\n",
    "        for top in top_name:\n",
    "            df['spok_'+top] = df['spoken_languages'].apply(lambda x: 1 if top in x else 0)\n",
    "        df = df.drop(['spoken_languages'], axis=1)\n",
    "        return df\n",
    "        \n",
    "    def extract(self, state='train'):\n",
    "        X = pd.DataFrame(index=self.df.index)\n",
    "        X = X.join(self._budget())\n",
    "        ##X = X.join(self._popularity())\n",
    "        ##X = X.join(self._runtime())\n",
    "        #X = X.join(self._language())\n",
    "        #X = X.join(self._status())\n",
    "        #X = X.join(self._homepage())\n",
    "        #X = X.join(self._poster_path())\n",
    "        #X = X.join(self._release_day_of_week())\n",
    "        #X = X.join(self._release_month())\n",
    "        ##X = X.join(self._release_day())\n",
    "        X = X.join(self._release_year())\n",
    "        #X = X.join(self._collection_name())\n",
    "        #X = X.join(self._collection_backdrop())\n",
    "        #X = X.join(self._collection_poster())\n",
    "        #X = X.join(self._genres())\n",
    "        ##X = X.join(self._production_countries())\n",
    "        ##X = X.join(self._spoken_languages())\n",
    "        if state=='train':\n",
    "            y = pd.DataFrame(index=X.index)\n",
    "            y = y.join(self.df['revenue'])\n",
    "            return X, y\n",
    "        elif state=='test':\n",
    "            return X"
   ]
  },
  {
   "cell_type": "code",
   "execution_count": 945,
   "metadata": {
    "code_folding": [
     0
    ]
   },
   "outputs": [],
   "source": [
    "# 評価用の説明変数(X)と目的変数(y)およびテスト用の説明変数(X_test)を作成\n",
    "X, y = Feature(df_train).extract(state='train')\n",
    "X_test = Feature(df_test).extract(state='test')"
   ]
  },
  {
   "cell_type": "code",
   "execution_count": 946,
   "metadata": {
    "code_folding": [
     0
    ]
   },
   "outputs": [],
   "source": [
    "# XとX_testのcolumnの長さを統一\n",
    "X = X.ix[:,X.columns.isin(X_test.columns)]\n",
    "X_test = X_test.ix[:,X_test.columns.isin(X.columns)]"
   ]
  },
  {
   "cell_type": "markdown",
   "metadata": {},
   "source": [
    "# Learning"
   ]
  },
  {
   "cell_type": "code",
   "execution_count": 947,
   "metadata": {
    "code_folding": [
     2,
     8,
     11,
     14,
     17,
     20,
     35
    ]
   },
   "outputs": [],
   "source": [
    "class Learning:\n",
    "    \n",
    "    def __init__(self, X, y, train_size=0.8, random_state=None):\n",
    "        self.X = X\n",
    "        self.y = y\n",
    "        self.size = train_size\n",
    "        self.random = random_state\n",
    "        \n",
    "    def _split(self):\n",
    "        return train_test_split(self.X, self.y, train_size=self.size, random_state=self.random)\n",
    "    \n",
    "    def _fit(self, model, X, y):\n",
    "        model.fit(X, y)\n",
    "    \n",
    "    def _predict(self, model, X):\n",
    "        return model.predict(X)\n",
    "    \n",
    "    def _RMSLE(self, y_pred, y):\n",
    "        return np.sqrt(np.mean((np.log1p(y_pred)-np.log1p(y.values.T[0]))**2))\n",
    "    \n",
    "    def _plot(self, X, model):\n",
    "        coef = sorted(dict(zip(X.columns, np.abs(model.coef_[0]))).items(), key=lambda x: -x[-1])[:20][::-1]\n",
    "        x = np.arange(len(coef))+1\n",
    "        name = [coef_i[0] for coef_i in coef]\n",
    "        y = [coef_i[1] for coef_i in coef]\n",
    "        plt.figure(figsize=(7, 7))\n",
    "        plt.rcParams['font.size'] = 18\n",
    "        plt.barh(x, y)\n",
    "        plt.grid(which='both', axis='x')\n",
    "        plt.xscale('log')\n",
    "        plt.xlabel('Weight')\n",
    "        plt.yticks(x, name)\n",
    "        plt.tight_layout()\n",
    "        plt.show()\n",
    "    \n",
    "    def extract(self, model=None, n_iter=10, evaluate=True, plot=True):\n",
    "        rmsle = []\n",
    "        for i in range(n_iter):\n",
    "            X_train, X_valid, y_train, y_valid = self._split()\n",
    "            self._fit(model, X_train, y_train)\n",
    "            y_pred = np.array(self._predict(model, X_valid))\n",
    "            rmsle.append(self._RMSLE(y_pred, y_valid))\n",
    "        rmsle_m = np.mean(rmsle).round(4)\n",
    "        rmsle_e = (np.std(rmsle)/np.sqrt(n_iter)).round(4)\n",
    "        if evaluate: print(f'RMSLE = {rmsle_m} ± {rmsle_e}')\n",
    "        if plot: self._plot(X_valid, model.steps[1][1])\n",
    "        return model"
   ]
  },
  {
   "cell_type": "code",
   "execution_count": 953,
   "metadata": {
    "code_folding": [
     0
    ],
    "scrolled": false
   },
   "outputs": [
    {
     "name": "stdout",
     "output_type": "stream",
     "text": [
      "RMSLE = 2.8512 ± 0.0\n"
     ]
    },
    {
     "ename": "AttributeError",
     "evalue": "'LGBMRegressor' object has no attribute 'coef_'",
     "output_type": "error",
     "traceback": [
      "\u001b[0;31m---------------------------------------------------------------------------\u001b[0m",
      "\u001b[0;31mAttributeError\u001b[0m                            Traceback (most recent call last)",
      "\u001b[0;32m<ipython-input-953-efc3e1e92ea3>\u001b[0m in \u001b[0;36m<module>\u001b[0;34m()\u001b[0m\n\u001b[1;32m      9\u001b[0m \u001b[0mpl\u001b[0m \u001b[0;34m=\u001b[0m \u001b[0mPipeline\u001b[0m\u001b[0;34m(\u001b[0m\u001b[0msteps\u001b[0m\u001b[0;34m=\u001b[0m\u001b[0;34m[\u001b[0m\u001b[0;34m(\u001b[0m\u001b[0;34m'pre'\u001b[0m\u001b[0;34m,\u001b[0m \u001b[0mnor\u001b[0m\u001b[0;34m)\u001b[0m\u001b[0;34m,\u001b[0m \u001b[0;34m(\u001b[0m\u001b[0;34m'mod'\u001b[0m\u001b[0;34m,\u001b[0m \u001b[0mlgb\u001b[0m\u001b[0;34m)\u001b[0m\u001b[0;34m]\u001b[0m\u001b[0;34m)\u001b[0m\u001b[0;34m\u001b[0m\u001b[0m\n\u001b[1;32m     10\u001b[0m \u001b[0;34m\u001b[0m\u001b[0m\n\u001b[0;32m---> 11\u001b[0;31m \u001b[0mbest_mod\u001b[0m \u001b[0;34m=\u001b[0m \u001b[0mLearning\u001b[0m\u001b[0;34m(\u001b[0m\u001b[0mX\u001b[0m\u001b[0;34m,\u001b[0m \u001b[0my\u001b[0m\u001b[0;34m,\u001b[0m \u001b[0mtrain_size\u001b[0m\u001b[0;34m=\u001b[0m\u001b[0mtrain_size\u001b[0m\u001b[0;34m,\u001b[0m \u001b[0mrandom_state\u001b[0m\u001b[0;34m=\u001b[0m\u001b[0;32mNone\u001b[0m\u001b[0;34m)\u001b[0m\u001b[0;34m.\u001b[0m\u001b[0mextract\u001b[0m\u001b[0;34m(\u001b[0m\u001b[0mmodel\u001b[0m\u001b[0;34m=\u001b[0m\u001b[0mpl\u001b[0m\u001b[0;34m,\u001b[0m \u001b[0mn_iter\u001b[0m\u001b[0;34m=\u001b[0m\u001b[0;36m1\u001b[0m\u001b[0;34m,\u001b[0m \u001b[0mevaluate\u001b[0m\u001b[0;34m=\u001b[0m\u001b[0;32mTrue\u001b[0m\u001b[0;34m,\u001b[0m \u001b[0mplot\u001b[0m\u001b[0;34m=\u001b[0m\u001b[0;32mTrue\u001b[0m\u001b[0;34m)\u001b[0m\u001b[0;34m\u001b[0m\u001b[0m\n\u001b[0m",
      "\u001b[0;32m<ipython-input-947-39f59b9f329a>\u001b[0m in \u001b[0;36mextract\u001b[0;34m(self, model, n_iter, evaluate, plot)\u001b[0m\n\u001b[1;32m     44\u001b[0m         \u001b[0mrmsle_e\u001b[0m \u001b[0;34m=\u001b[0m \u001b[0;34m(\u001b[0m\u001b[0mnp\u001b[0m\u001b[0;34m.\u001b[0m\u001b[0mstd\u001b[0m\u001b[0;34m(\u001b[0m\u001b[0mrmsle\u001b[0m\u001b[0;34m)\u001b[0m\u001b[0;34m/\u001b[0m\u001b[0mnp\u001b[0m\u001b[0;34m.\u001b[0m\u001b[0msqrt\u001b[0m\u001b[0;34m(\u001b[0m\u001b[0mn_iter\u001b[0m\u001b[0;34m)\u001b[0m\u001b[0;34m)\u001b[0m\u001b[0;34m.\u001b[0m\u001b[0mround\u001b[0m\u001b[0;34m(\u001b[0m\u001b[0;36m4\u001b[0m\u001b[0;34m)\u001b[0m\u001b[0;34m\u001b[0m\u001b[0m\n\u001b[1;32m     45\u001b[0m         \u001b[0;32mif\u001b[0m \u001b[0mevaluate\u001b[0m\u001b[0;34m:\u001b[0m \u001b[0mprint\u001b[0m\u001b[0;34m(\u001b[0m\u001b[0;34mf'RMSLE = {rmsle_m} ± {rmsle_e}'\u001b[0m\u001b[0;34m)\u001b[0m\u001b[0;34m\u001b[0m\u001b[0m\n\u001b[0;32m---> 46\u001b[0;31m         \u001b[0;32mif\u001b[0m \u001b[0mplot\u001b[0m\u001b[0;34m:\u001b[0m \u001b[0mself\u001b[0m\u001b[0;34m.\u001b[0m\u001b[0m_plot\u001b[0m\u001b[0;34m(\u001b[0m\u001b[0mX_valid\u001b[0m\u001b[0;34m,\u001b[0m \u001b[0mmodel\u001b[0m\u001b[0;34m.\u001b[0m\u001b[0msteps\u001b[0m\u001b[0;34m[\u001b[0m\u001b[0;36m1\u001b[0m\u001b[0;34m]\u001b[0m\u001b[0;34m[\u001b[0m\u001b[0;36m1\u001b[0m\u001b[0;34m]\u001b[0m\u001b[0;34m)\u001b[0m\u001b[0;34m\u001b[0m\u001b[0m\n\u001b[0m\u001b[1;32m     47\u001b[0m         \u001b[0;32mreturn\u001b[0m \u001b[0mmodel\u001b[0m\u001b[0;34m\u001b[0m\u001b[0m\n",
      "\u001b[0;32m<ipython-input-947-39f59b9f329a>\u001b[0m in \u001b[0;36m_plot\u001b[0;34m(self, X, model)\u001b[0m\n\u001b[1;32m     20\u001b[0m \u001b[0;34m\u001b[0m\u001b[0m\n\u001b[1;32m     21\u001b[0m     \u001b[0;32mdef\u001b[0m \u001b[0m_plot\u001b[0m\u001b[0;34m(\u001b[0m\u001b[0mself\u001b[0m\u001b[0;34m,\u001b[0m \u001b[0mX\u001b[0m\u001b[0;34m,\u001b[0m \u001b[0mmodel\u001b[0m\u001b[0;34m)\u001b[0m\u001b[0;34m:\u001b[0m\u001b[0;34m\u001b[0m\u001b[0m\n\u001b[0;32m---> 22\u001b[0;31m         \u001b[0mcoef\u001b[0m \u001b[0;34m=\u001b[0m \u001b[0msorted\u001b[0m\u001b[0;34m(\u001b[0m\u001b[0mdict\u001b[0m\u001b[0;34m(\u001b[0m\u001b[0mzip\u001b[0m\u001b[0;34m(\u001b[0m\u001b[0mX\u001b[0m\u001b[0;34m.\u001b[0m\u001b[0mcolumns\u001b[0m\u001b[0;34m,\u001b[0m \u001b[0mnp\u001b[0m\u001b[0;34m.\u001b[0m\u001b[0mabs\u001b[0m\u001b[0;34m(\u001b[0m\u001b[0mmodel\u001b[0m\u001b[0;34m.\u001b[0m\u001b[0mcoef_\u001b[0m\u001b[0;34m[\u001b[0m\u001b[0;36m0\u001b[0m\u001b[0;34m]\u001b[0m\u001b[0;34m)\u001b[0m\u001b[0;34m)\u001b[0m\u001b[0;34m)\u001b[0m\u001b[0;34m.\u001b[0m\u001b[0mitems\u001b[0m\u001b[0;34m(\u001b[0m\u001b[0;34m)\u001b[0m\u001b[0;34m,\u001b[0m \u001b[0mkey\u001b[0m\u001b[0;34m=\u001b[0m\u001b[0;32mlambda\u001b[0m \u001b[0mx\u001b[0m\u001b[0;34m:\u001b[0m \u001b[0;34m-\u001b[0m\u001b[0mx\u001b[0m\u001b[0;34m[\u001b[0m\u001b[0;34m-\u001b[0m\u001b[0;36m1\u001b[0m\u001b[0;34m]\u001b[0m\u001b[0;34m)\u001b[0m\u001b[0;34m[\u001b[0m\u001b[0;34m:\u001b[0m\u001b[0;36m20\u001b[0m\u001b[0;34m]\u001b[0m\u001b[0;34m[\u001b[0m\u001b[0;34m:\u001b[0m\u001b[0;34m:\u001b[0m\u001b[0;34m-\u001b[0m\u001b[0;36m1\u001b[0m\u001b[0;34m]\u001b[0m\u001b[0;34m\u001b[0m\u001b[0m\n\u001b[0m\u001b[1;32m     23\u001b[0m         \u001b[0mx\u001b[0m \u001b[0;34m=\u001b[0m \u001b[0mnp\u001b[0m\u001b[0;34m.\u001b[0m\u001b[0marange\u001b[0m\u001b[0;34m(\u001b[0m\u001b[0mlen\u001b[0m\u001b[0;34m(\u001b[0m\u001b[0mcoef\u001b[0m\u001b[0;34m)\u001b[0m\u001b[0;34m)\u001b[0m\u001b[0;34m+\u001b[0m\u001b[0;36m1\u001b[0m\u001b[0;34m\u001b[0m\u001b[0m\n\u001b[1;32m     24\u001b[0m         \u001b[0mname\u001b[0m \u001b[0;34m=\u001b[0m \u001b[0;34m[\u001b[0m\u001b[0mcoef_i\u001b[0m\u001b[0;34m[\u001b[0m\u001b[0;36m0\u001b[0m\u001b[0;34m]\u001b[0m \u001b[0;32mfor\u001b[0m \u001b[0mcoef_i\u001b[0m \u001b[0;32min\u001b[0m \u001b[0mcoef\u001b[0m\u001b[0;34m]\u001b[0m\u001b[0;34m\u001b[0m\u001b[0m\n",
      "\u001b[0;31mAttributeError\u001b[0m: 'LGBMRegressor' object has no attribute 'coef_'"
     ]
    }
   ],
   "source": [
    "# モデルを選択し、最適なモデルを作成\n",
    "train_size = len(df_train_raw)/(len(df_train_raw)+len(df_test_raw))\n",
    "nor = Normalizer()\n",
    "std = StandardScaler()\n",
    "lr = LinearRegression()\n",
    "rid = Ridge()\n",
    "rfr = RandomForestRegressor()\n",
    "lgb = LGBMRegressor()\n",
    "pl = Pipeline(steps=[('pre', nor), ('mod', lgb)])\n",
    "\n",
    "best_mod = Learning(X, y, train_size=train_size, random_state=None).extract(model=pl, n_iter=1, evaluate=True, plot=True)"
   ]
  },
  {
   "cell_type": "code",
   "execution_count": 899,
   "metadata": {
    "code_folding": [
     0
    ]
   },
   "outputs": [
    {
     "name": "stdout",
     "output_type": "stream",
     "text": [
      "RMSLE = 3.5557 ± 0.0\n"
     ]
    },
    {
     "data": {
      "image/png": "[encoded data removed]",
      "text/plain": [
       "<Figure size 504x504 with 1 Axes>"
      ]
     },
     "metadata": {},
     "output_type": "display_data"
    }
   ],
   "source": [
    "# モデルを選択し、最適なモデルを作成\n",
    "train_size = len(df_train_raw)/(len(df_train_raw)+len(df_test_raw))\n",
    "nor = Normalizer()\n",
    "std = StandardScaler()\n",
    "lr = LinearRegression()\n",
    "rid = Ridge()\n",
    "rfr = RandomForestRegressor()\n",
    "lgb = LGBMRegressor()\n",
    "pl = Pipeline(steps=[('pre', nor), ('mod', rid)])\n",
    "\n",
    "best_mod = Learning(X, y, train_size=train_size, random_state=None).extract(model=pl, n_iter=1, evaluate=True, plot=True)"
   ]
  },
  {
   "cell_type": "markdown",
   "metadata": {},
   "source": [
    "# Predicting"
   ]
  },
  {
   "cell_type": "code",
   "execution_count": 759,
   "metadata": {
    "code_folding": [
     0,
     2,
     8,
     11,
     14,
     17
    ]
   },
   "outputs": [],
   "source": [
    "class Predicting:\n",
    "    \n",
    "    def __init__(self, X, y, X_test, model):\n",
    "        self.X = X\n",
    "        self.y = y\n",
    "        self.X_test = X_test\n",
    "        self.mod = model\n",
    "        \n",
    "    def _fit(self):\n",
    "        self.mod.fit(self.X, self.y)\n",
    "        \n",
    "    def _predict(self):\n",
    "        return self.mod.predict(self.X_test)\n",
    "    \n",
    "    def _save(self, df):\n",
    "        df.to_csv('submit.csv', index=None)\n",
    "    \n",
    "    def extract(self, save=True):\n",
    "        self._fit()\n",
    "        y = self._predict()\n",
    "        df = pd.DataFrame(data=y, index=self.X_test.index, columns=['revenue']).reset_index()\n",
    "        if save: self._save(df)\n",
    "        return df"
   ]
  },
  {
   "cell_type": "code",
   "execution_count": 760,
   "metadata": {},
   "outputs": [],
   "source": [
    "df_pred = Predicting(X, y, X_test, best_mod).extract(save=True)"
   ]
  },
  {
   "cell_type": "markdown",
   "metadata": {},
   "source": [
    "# Investigetion"
   ]
  },
  {
   "cell_type": "markdown",
   "metadata": {},
   "source": [
    "## Budget"
   ]
  },
  {
   "cell_type": "code",
   "execution_count": 201,
   "metadata": {
    "code_folding": [
     0
    ],
    "collapsed": true
   },
   "outputs": [
    {
     "data": {
      "image/png": "[encoded data removed]",
      "text/plain": [
       "<Figure size 576x360 with 2 Axes>"
      ]
     },
     "metadata": {},
     "output_type": "display_data"
    }
   ],
   "source": [
    "# budgetとrevenueの相関をチェック\n",
    "x = df_train_raw['budget']\n",
    "x_log1p = np.log1p(df_train_raw['budget'])\n",
    "y = df_train_raw['revenue']\n",
    "\n",
    "fig = plt.figure(figsize=(8, 5))\n",
    "ax1 = fig.add_subplot(121)\n",
    "ax2 = fig.add_subplot(122, sharey=ax1)\n",
    "\n",
    "ax1.scatter(x, y, s=5)\n",
    "ax2.scatter(x_log, y, s=5)\n",
    "\n",
    "ax1.set_title('Normal')\n",
    "ax2.set_title('One Plus')\n",
    "ax1.set_xlabel('budget')\n",
    "ax2.set_xlabel('budget')\n",
    "ax1.set_ylabel('revenue')\n",
    "ax2.tick_params(labelleft=False)\n",
    "fig.tight_layout()\n",
    "fig.subplots_adjust(wspace=0)\n",
    "fig.show()"
   ]
  },
  {
   "cell_type": "code",
   "execution_count": 185,
   "metadata": {
    "code_folding": [
     0
    ],
    "collapsed": true
   },
   "outputs": [
    {
     "data": {
      "image/png": "[encoded data removed]",
      "text/plain": [
       "<Figure size 720x360 with 2 Axes>"
      ]
     },
     "metadata": {},
     "output_type": "display_data"
    }
   ],
   "source": [
    "# budget/runtimeとrevenueの相関をチェック\n",
    "x_hist = df_train_raw['runtime'].fillna(df_train_raw['runtime'].mean())\n",
    "x = df_train_raw['budget']/df_train_raw['runtime']\n",
    "y = df_train_raw['revenue']\n",
    "\n",
    "fig = plt.figure(figsize=(10, 5))\n",
    "ax1 = fig.add_subplot(121)\n",
    "ax2 = fig.add_subplot(122)\n",
    "\n",
    "ax1.hist(x_hist, bins=100)\n",
    "ax2.scatter(x, y, s=5)\n",
    "\n",
    "ax1.set_xlabel('runtime')\n",
    "ax2.set_xlabel('budget/runtime')\n",
    "ax1.set_ylabel('Count')\n",
    "ax2.set_ylabel('revenue')\n",
    "fig.tight_layout()\n",
    "fig.show()"
   ]
  },
  {
   "cell_type": "markdown",
   "metadata": {},
   "source": [
    "## Popularity"
   ]
  },
  {
   "cell_type": "code",
   "execution_count": 222,
   "metadata": {
    "code_folding": [
     0
    ],
    "collapsed": true
   },
   "outputs": [
    {
     "data": {
      "image/png": "[encoded data removed]",
      "text/plain": [
       "<Figure size 576x720 with 4 Axes>"
      ]
     },
     "metadata": {},
     "output_type": "display_data"
    }
   ],
   "source": [
    "# popularityとrevenueの相関をチェック\n",
    "x = df_train_raw['popularity']\n",
    "x_log = np.log(df_train_raw['popularity'])\n",
    "x_log10 = np.log10(df_train_raw['popularity'])\n",
    "x_log1p = np.log1p(df_train_raw['popularity'])\n",
    "y = df_train_raw['revenue']\n",
    "\n",
    "fig = plt.figure(figsize=(8, 10))\n",
    "ax1 = fig.add_subplot(221)\n",
    "ax2 = fig.add_subplot(222, sharey=ax1)\n",
    "ax3 = fig.add_subplot(223, sharey=ax1)\n",
    "ax4 = fig.add_subplot(224, sharey=ax1)\n",
    "\n",
    "ax1.scatter(x, y, s=5)\n",
    "ax2.scatter(x_log, y, s=5)\n",
    "ax3.scatter(x_log10, y, s=5)\n",
    "ax4.scatter(x_log1p, y, s=5)\n",
    "\n",
    "ax1.set_title('Normal')\n",
    "ax2.set_title('Natural')\n",
    "ax3.set_title('Common')\n",
    "ax4.set_title('One Plus')\n",
    "ax1.set_xlabel('popularity')\n",
    "ax2.set_xlabel('popularity')\n",
    "ax3.set_xlabel('popularity')\n",
    "ax4.set_xlabel('popularity')\n",
    "ax1.set_ylabel('revenue')\n",
    "ax2.tick_params(labelleft=False)\n",
    "ax3.set_ylabel('revenue')\n",
    "ax4.tick_params(labelleft=False)\n",
    "fig.tight_layout()\n",
    "fig.subplots_adjust(wspace=0)\n",
    "fig.show()"
   ]
  },
  {
   "cell_type": "code",
   "execution_count": null,
   "metadata": {},
   "outputs": [],
   "source": []
  },
  {
   "cell_type": "code",
   "execution_count": null,
   "metadata": {},
   "outputs": [],
   "source": []
  },
  {
   "cell_type": "code",
   "execution_count": null,
   "metadata": {},
   "outputs": [],
   "source": []
  }
 ],
 "metadata": {
  "kernelspec": {
   "display_name": "Python 3",
   "language": "python",
   "name": "python3"
  },
  "language_info": {
   "codemirror_mode": {
    "name": "ipython",
    "version": 3
   },
   "file_extension": ".py",
   "mimetype": "text/x-python",
   "name": "python",
   "nbconvert_exporter": "python",
   "pygments_lexer": "ipython3",
   "version": "3.6.4"
  },
  "toc": {
   "base_numbering": 1,
   "nav_menu": {},
   "number_sections": true,
   "sideBar": true,
   "skip_h1_title": false,
   "title_cell": "Table of Contents",
   "title_sidebar": "Contents",
   "toc_cell": false,
   "toc_position": {
    "height": "calc(100% - 180px)",
    "left": "10px",
    "top": "150px",
    "width": "217px"
   },
   "toc_section_display": true,
   "toc_window_display": false
  }
 },
 "nbformat": 4,
 "nbformat_minor": 2
}
